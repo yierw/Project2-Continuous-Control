{
 "cells": [
  {
   "cell_type": "markdown",
   "metadata": {},
   "source": [
    "# Continuous Control\n",
    "\n",
    "---\n",
    "\n",
    "You are welcome to use this coding environment to train your agent for the project.  Follow the instructions below to get started!\n",
    "\n",
    "### 1. Start the Environment\n",
    "\n",
    "Run the next code cell to install a few packages.  This line will take a few minutes to run!"
   ]
  },
  {
   "cell_type": "code",
   "execution_count": 1,
   "metadata": {},
   "outputs": [
    {
     "name": "stdout",
     "output_type": "stream",
     "text": [
      "\u001b[31mtensorflow 1.7.1 has requirement numpy>=1.13.3, but you'll have numpy 1.12.1 which is incompatible.\u001b[0m\r\n",
      "\u001b[31mipython 6.5.0 has requirement prompt-toolkit<2.0.0,>=1.0.15, but you'll have prompt-toolkit 3.0.5 which is incompatible.\u001b[0m\r\n"
     ]
    }
   ],
   "source": [
    "!pip -q install ./python"
   ]
  },
  {
   "cell_type": "markdown",
   "metadata": {},
   "source": [
    "The environments corresponding to both versions of the environment are already saved in the Workspace and can be accessed at the file paths provided below.  \n",
    "\n",
    "Please select one of the two options below for loading the environment."
   ]
  },
  {
   "cell_type": "code",
   "execution_count": 2,
   "metadata": {},
   "outputs": [],
   "source": [
    "from unityagents import UnityEnvironment\n",
    "import numpy as np\n",
    "import matplotlib.pyplot as plt"
   ]
  },
  {
   "cell_type": "code",
   "execution_count": 3,
   "metadata": {},
   "outputs": [
    {
     "name": "stderr",
     "output_type": "stream",
     "text": [
      "INFO:unityagents:\n",
      "'Academy' started successfully!\n",
      "Unity Academy name: Academy\n",
      "        Number of Brains: 1\n",
      "        Number of External Brains : 1\n",
      "        Lesson number : 0\n",
      "        Reset Parameters :\n",
      "\t\tgoal_speed -> 1.0\n",
      "\t\tgoal_size -> 5.0\n",
      "Unity brain name: ReacherBrain\n",
      "        Number of Visual Observations (per agent): 0\n",
      "        Vector Observation space type: continuous\n",
      "        Vector Observation space size (per agent): 33\n",
      "        Number of stacked Vector Observation: 1\n",
      "        Vector Action space type: continuous\n",
      "        Vector Action space size (per agent): 4\n",
      "        Vector Action descriptions: , , , \n"
     ]
    }
   ],
   "source": [
    "# select this option to load version 1 (with a single agent) of the environment\n",
    "#env = UnityEnvironment(file_name='/data/Reacher_One_Linux_NoVis/Reacher_One_Linux_NoVis.x86_64')\n",
    "\n",
    "# select this option to load version 2 (with 20 agents) of the environment\n",
    "env = UnityEnvironment(file_name='/data/Reacher_Linux_NoVis/Reacher.x86_64')"
   ]
  },
  {
   "cell_type": "markdown",
   "metadata": {},
   "source": [
    "Environments contain **_brains_** which are responsible for deciding the actions of their associated agents. Here we check for the first brain available, and set it as the default brain we will be controlling from Python."
   ]
  },
  {
   "cell_type": "code",
   "execution_count": 4,
   "metadata": {},
   "outputs": [],
   "source": [
    "# get the default brain\n",
    "brain_name = 'ReacherBrain'\n",
    "brain = env.brains[brain_name]"
   ]
  },
  {
   "cell_type": "markdown",
   "metadata": {},
   "source": [
    "### 2. Examine the State and Action Spaces\n",
    "\n",
    "Run the code cell below to print some information about the environment."
   ]
  },
  {
   "cell_type": "code",
   "execution_count": 5,
   "metadata": {},
   "outputs": [
    {
     "name": "stdout",
     "output_type": "stream",
     "text": [
      "Number of agents: 20\n",
      "Size of each action: 4\n",
      "There are 20 agents. Each observes a state with length: 33\n",
      "The state for the first agent looks like: [  0.00000000e+00  -4.00000000e+00   0.00000000e+00   1.00000000e+00\n",
      "  -0.00000000e+00  -0.00000000e+00  -4.37113883e-08   0.00000000e+00\n",
      "   0.00000000e+00   0.00000000e+00   0.00000000e+00   0.00000000e+00\n",
      "   0.00000000e+00   0.00000000e+00  -1.00000000e+01   0.00000000e+00\n",
      "   1.00000000e+00  -0.00000000e+00  -0.00000000e+00  -4.37113883e-08\n",
      "   0.00000000e+00   0.00000000e+00   0.00000000e+00   0.00000000e+00\n",
      "   0.00000000e+00   0.00000000e+00   5.75471878e+00  -1.00000000e+00\n",
      "   5.55726624e+00   0.00000000e+00   1.00000000e+00   0.00000000e+00\n",
      "  -1.68164849e-01]\n"
     ]
    }
   ],
   "source": [
    "# reset the environment\n",
    "env_info = env.reset(train_mode=True)[brain_name]\n",
    "\n",
    "# number of agents\n",
    "num_agents = len(env_info.agents)\n",
    "print('Number of agents:', num_agents)\n",
    "\n",
    "# size of each action\n",
    "action_size = brain.vector_action_space_size\n",
    "print('Size of each action:', action_size)\n",
    "\n",
    "# examine the state space \n",
    "states = env_info.vector_observations\n",
    "state_size = states.shape[1]\n",
    "print('There are {} agents. Each observes a state with length: {}'.format(states.shape[0], state_size))\n",
    "print('The state for the first agent looks like:', states[0])"
   ]
  },
  {
   "cell_type": "markdown",
   "metadata": {},
   "source": [
    "### 3. Take Random Actions in the Environment\n",
    "\n",
    "In the next code cell, you will learn how to use the Python API to control the agent and receive feedback from the environment.\n",
    "\n",
    "Note that **in this coding environment, you will not be able to watch the agents while they are training**, and you should set `train_mode=True` to restart the environment."
   ]
  },
  {
   "cell_type": "code",
   "execution_count": 6,
   "metadata": {},
   "outputs": [
    {
     "name": "stdout",
     "output_type": "stream",
     "text": [
      "Total score (averaged over agents) this episode: 0.1304999970830977\n"
     ]
    },
    {
     "data": {
      "text/plain": [
       "1001"
      ]
     },
     "execution_count": 6,
     "metadata": {},
     "output_type": "execute_result"
    }
   ],
   "source": [
    "#buffer = ReplayBuffer(300)\n",
    "\n",
    "env_info = env.reset(train_mode=True)[brain_name]      # reset the environment    \n",
    "states = env_info.vector_observations                  # get the current state (for each agent)\n",
    "scores = np.zeros(num_agents)                          # initialize the score (for each agent)\n",
    "counter = 0\n",
    "while True:\n",
    "    counter += 1\n",
    "    actions = np.random.randn(num_agents, action_size) # select an action (for each agent)\n",
    "    actions = np.clip(actions, -1, 1)                  # all actions between -1 and 1\n",
    "    env_info = env.step(actions)[brain_name]           # send all actions to tne environment\n",
    "    next_states = env_info.vector_observations         # get next state (for each agent)\n",
    "    rewards = env_info.rewards                         # get reward (for each agent)\n",
    "    dones = env_info.local_done                        # see if episode finished\n",
    "    scores += env_info.rewards                         # update the score (for each agent)\n",
    "#    buffer.push(states, actions, rewards, next_states, dones)\n",
    "    states = next_states                               # roll over states to next time step\n",
    "    if np.any(dones):                                  # exit loop if episode finished\n",
    "        break\n",
    "print('Total score (averaged over agents) this episode: {}'.format(np.mean(scores)))\n",
    "counter"
   ]
  },
  {
   "cell_type": "markdown",
   "metadata": {},
   "source": [
    "When finished, you can close the environment."
   ]
  },
  {
   "cell_type": "markdown",
   "metadata": {},
   "source": [
    "### 4. It's Your Turn!\n",
    "\n",
    "Now it's your turn to train your own agent to solve the environment!  A few **important notes**:\n",
    "- When training the environment, set `train_mode=True`, so that the line for resetting the environment looks like the following:\n",
    "```python\n",
    "env_info = env.reset(train_mode=True)[brain_name]\n",
    "```\n",
    "- To structure your work, you're welcome to work directly in this Jupyter notebook, or you might like to start over with a new file!  You can see the list of files in the workspace by clicking on **_Jupyter_** in the top left corner of the notebook.\n",
    "- In this coding environment, you will not be able to watch the agents while they are training.  However, **_after training the agents_**, you can download the saved model weights to watch the agents on your own machine! "
   ]
  },
  {
   "cell_type": "code",
   "execution_count": 7,
   "metadata": {},
   "outputs": [],
   "source": [
    "import gym\n",
    "import random\n",
    "import torch\n",
    "import numpy as np\n",
    "from collections import namedtuple, deque\n",
    "import copy\n",
    "\n",
    "import torch\n",
    "import torch.nn as nn\n",
    "import torch.nn.functional as F\n",
    "import torch.optim as optim\n",
    "from torch.distributions import Categorical\n",
    "\n",
    "BUFFER_SIZE = int(1e5)  # replay buffer size\n",
    "BATCH_SIZE = 128        # minibatch size\n",
    "GAMMA = 0.99            # discount factor\n",
    "TAU = 0.999             # for soft update of target parameters\n",
    "LR_ACTOR = 5e-4         # learning rate of the actor\n",
    "LR_CRITIC = 5e-4        # learning rate of the critic\n",
    "WEIGHT_DECAY = 0.0      # L2 weight decay\n",
    "EPSILON = 1.0           # explore->exploit noise process added to act step\n",
    "EPSILON_DECAY = 0.99    # decay rate for noise process\n",
    "UPDATE_EVERY = 1        # how often to update the target network\n",
    "LEARN_NUM = 1\n",
    "\n",
    "device = torch.device(\"cuda:0\" if torch.cuda.is_available() else \"cpu\")\n",
    "\n",
    "\n",
    "def hidden_init(layer):\n",
    "    fan_in = layer.weight.data.size()[0]\n",
    "    lim = 1. / np.sqrt(fan_in)\n",
    "    return (-lim, lim)\n",
    "\n",
    "class Actor(nn.Module):\n",
    "    def __init__(self, state_size, action_size, fc_units=256):\n",
    "        super(Actor, self).__init__()\n",
    "        self.fc1 = nn.Linear(state_size, fc_units)\n",
    "        self.fc2 = nn.Linear(fc_units, action_size)\n",
    "        self.reset_parameters()\n",
    "\n",
    "    def reset_parameters(self):\n",
    "        self.fc1.weight.data.uniform_(*hidden_init(self.fc1))\n",
    "        self.fc2.weight.data.uniform_(-3e-3, 3e-3)\n",
    "\n",
    "    def forward(self, state):\n",
    "        x = F.relu(self.fc1(state))\n",
    "        return F.tanh(self.fc2(x))\n",
    "\n",
    "\n",
    "class Critic(nn.Module):\n",
    "    def __init__(self, state_size, action_size, fcs1_units=256, fc2_units=256, fc3_units=128):\n",
    "        super(Critic, self).__init__()\n",
    "        self.fcs1 = nn.Linear(state_size, fcs1_units)\n",
    "        self.fc2 = nn.Linear(fcs1_units+action_size, fc2_units)\n",
    "        self.fc3 = nn.Linear(fc2_units, fc3_units)\n",
    "        self.fc4 = nn.Linear(fc3_units, 1)\n",
    "        self.reset_parameters()\n",
    "\n",
    "    def reset_parameters(self):\n",
    "        self.fcs1.weight.data.uniform_(*hidden_init(self.fcs1))\n",
    "        self.fc2.weight.data.uniform_(*hidden_init(self.fc2))\n",
    "        self.fc3.weight.data.uniform_(*hidden_init(self.fc3))\n",
    "        self.fc4.weight.data.uniform_(-3e-3, 3e-3)\n",
    "\n",
    "    def forward(self, state, action):\n",
    "        xs = F.leaky_relu(self.fcs1(state))\n",
    "        x = torch.cat((xs, action), dim=1)\n",
    "        x = F.leaky_relu(self.fc2(x))\n",
    "        x = F.leaky_relu(self.fc3(x))\n",
    "        return self.fc4(x)\n",
    "    \n",
    "\n",
    "class Agent():\n",
    "    def __init__(self, state_size, action_size, num_agents):\n",
    "        self.state_size = state_size\n",
    "        self.action_size = action_size\n",
    "        self.epsilon = EPSILON\n",
    "        self.t_step = 0\n",
    "        # Actor Network (w/ Target Network)\n",
    "        self.actor = Actor(state_size, action_size).to(device)\n",
    "        self.actor_target = Actor(state_size, action_size).to(device)\n",
    "        self.actor_optimizer = optim.Adam(self.actor.parameters(), lr = LR_ACTOR)\n",
    "        # Critic Network (w/ Target Network)\n",
    "        self.critic = Critic(state_size, action_size).to(device)\n",
    "        self.critic_target = Critic(state_size, action_size).to(device)\n",
    "        self.critic_optimizer = optim.Adam(self.critic.parameters(), lr = LR_CRITIC, weight_decay=WEIGHT_DECAY)\n",
    "        # Noise process\n",
    "        self.noise = OUNoise((num_agents, action_size))\n",
    "        # Replay memory\n",
    "        self.buffer = ReplayBuffer(buffer_size = BUFFER_SIZE)\n",
    "\n",
    "    def get_action(self, state, add_noise = True):\n",
    "        state_tensor = torch.from_numpy(state).float().to(device)\n",
    "\n",
    "        self.actor.eval()\n",
    "        with torch.no_grad():\n",
    "            action = self.actor(state_tensor).detach().cpu().numpy()\n",
    "        self.actor.train()\n",
    "        \n",
    "        if add_noise:\n",
    "            action += self.epsilon * self.noise.sample()\n",
    "\n",
    "        return np.clip(action, -1, 1)\n",
    "\n",
    "    def learn(self, experiences, gamma):\n",
    "        states, actions, rewards, next_states, dones = experiences\n",
    "        # ---------------------------- update critic ---------------------------- #\n",
    "        actions_next = self.actor_target(next_states)\n",
    "        Q_targets_next = self.critic_target(next_states, actions_next)\n",
    "        Q_targets = rewards + (gamma * Q_targets_next * (1 - dones))\n",
    "        \n",
    "        Q_expected = self.critic(states, actions)\n",
    "        \n",
    "        loss_fn = nn.MSELoss()\n",
    "        critic_loss = loss_fn(Q_expected, Q_targets.detach())\n",
    "        \n",
    "        self.critic_optimizer.zero_grad()\n",
    "        critic_loss.backward()\n",
    "        self.critic_optimizer.step()\n",
    "        # ---------------------------- update actor ---------------------------- #\n",
    "        actions_pred = self.actor(states)\n",
    "        actor_loss = -self.critic(states, actions_pred).mean()\n",
    "        \n",
    "        self.actor_optimizer.zero_grad()\n",
    "        actor_loss.backward()\n",
    "        self.actor_optimizer.step()     \n",
    "        \n",
    "    def soft_update(self, model, target_model, tau):\n",
    "        for target_param, param in zip(target_model.parameters(), model.parameters()):\n",
    "            target_param.data.copy_(tau*target_param.data + (1.0-tau)*param.data)\n",
    "            \n",
    "\n",
    "    def step(self, state, action, reward, next_state, done):\n",
    "        self.buffer.push(state, action, reward, next_state, done)\n",
    "        \n",
    "        if len(self.buffer)> BATCH_SIZE:\n",
    "            self.t_step = self.t_step + 1\n",
    "            for _ in range(LEARN_NUM):\n",
    "                experiences = self.buffer.sample(BATCH_SIZE)\n",
    "                self.learn(experiences, GAMMA)\n",
    "            \n",
    "            if (self.t_step % UPDATE_EVERY) == 0:\n",
    "                self.soft_update(self.critic, self.critic_target, TAU)\n",
    "                self.soft_update(self.actor, self.actor_target, TAU)\n",
    "                self.t_step = 0\n",
    "\n",
    "    def reset(self):\n",
    "        self.noise.reset()\n",
    "        self.epsilon = self.epsilon * EPSILON_DECAY\n",
    "        \n",
    "\n",
    "class OUNoise:\n",
    "    \"\"\"Ornstein-Uhlenbeck process.\"\"\"\n",
    "\n",
    "    def __init__(self, size, mu=0., theta=0.15, sigma=0.2):\n",
    "        \"\"\"Initialize parameters and noise process.\"\"\"\n",
    "        self.size = size\n",
    "        self.mu = mu * np.ones(size)\n",
    "        self.theta = theta\n",
    "        self.sigma = sigma\n",
    "        self.reset()\n",
    "\n",
    "    def reset(self):\n",
    "        \"\"\"Reset the internal state (= noise) to mean (mu).\"\"\"\n",
    "        self.state = copy.copy(self.mu)\n",
    "\n",
    "    def sample(self):\n",
    "        \"\"\"Update internal state and return it as a noise sample.\"\"\"\n",
    "        x = self.state\n",
    "        dx = self.theta * (self.mu - x) + self.sigma * np.random.standard_normal(self.size)\n",
    "        self.state = x + dx\n",
    "        return self.state\n",
    "\n",
    "\n",
    "class ReplayBuffer(object):\n",
    "    def __init__(self, buffer_size) :\n",
    "        self.memory = deque(maxlen = buffer_size)\n",
    "        self.experience = namedtuple(\"Experience\", field_names=[\"state\", \"action\", \"reward\", \"next_state\", \"done\"])\n",
    "\n",
    "    def push(self, states, actions, rewards, next_states, dones):\n",
    "        for state, action, reward, next_state, done in zip(states, actions, rewards, next_states, dones):\n",
    "            self.memory.append(self.experience(state, action, reward, next_state, done))\n",
    "\n",
    "    def sample(self, batch_size):\n",
    "        samples = random.sample(self.memory, k = batch_size)\n",
    "        batch = self.experience(*zip(*samples))\n",
    "        states = torch.from_numpy(np.asarray(batch.state)).float().to(device)\n",
    "        actions = torch.from_numpy(np.asarray(batch.action)).float().to(device) # discrete action space\n",
    "        rewards = torch.from_numpy(np.asarray(batch.reward)).float().view(-1,1).to(device)\n",
    "        next_states = torch.tensor(np.asarray(batch.next_state)).float().to(device)\n",
    "        # 0 for note finished, 1 for terminated\n",
    "        dones = torch.tensor([1 if done else 0 for done in batch.done]).float().view(-1,1).to(device)\n",
    "        return states, actions, rewards, next_states, dones\n",
    "\n",
    "    def __len__(self):\n",
    "        return len(self.memory)"
   ]
  },
  {
   "cell_type": "code",
   "execution_count": 8,
   "metadata": {},
   "outputs": [
    {
     "name": "stdout",
     "output_type": "stream",
     "text": [
      "Episode 1\tAverage Score: 0.80\n",
      "Episode 2\tAverage Score: 0.53\n",
      "Episode 3\tAverage Score: 0.67\n",
      "Episode 4\tAverage Score: 0.89\n",
      "Episode 5\tAverage Score: 0.94\n",
      "Episode 6\tAverage Score: 1.11\n",
      "Episode 7\tAverage Score: 1.36\n",
      "Episode 8\tAverage Score: 1.47\n",
      "Episode 9\tAverage Score: 1.68\n",
      "Episode 10\tAverage Score: 2.43\n",
      "Episode 11\tAverage Score: 2.80\n",
      "Episode 12\tAverage Score: 3.33\n",
      "Episode 13\tAverage Score: 3.86\n",
      "Episode 14\tAverage Score: 5.85\n",
      "Episode 15\tAverage Score: 8.28\n",
      "Episode 16\tAverage Score: 11.13\n",
      "Episode 17\tAverage Score: 16.23\n",
      "Episode 18\tAverage Score: 15.98\n",
      "Episode 19\tAverage Score: 19.08\n",
      "Episode 20\tAverage Score: 22.76\n",
      "Episode 21\tAverage Score: 26.67\n",
      "Episode 22\tAverage Score: 26.92\n",
      "Episode 23\tAverage Score: 30.17\n",
      "\n",
      "model saved!\n",
      "Episode 24\tAverage Score: 32.33\n",
      "\n",
      "model saved!\n",
      "Episode 25\tAverage Score: 33.07\n",
      "\n",
      "model saved!\n",
      "Episode 26\tAverage Score: 34.64\n",
      "\n",
      "model saved!\n",
      "Episode 27\tAverage Score: 35.14\n",
      "\n",
      "model saved!\n",
      "Episode 28\tAverage Score: 35.34\n",
      "\n",
      "model saved!\n",
      "Episode 29\tAverage Score: 36.87\n",
      "\n",
      "model saved!\n",
      "Episode 30\tAverage Score: 36.43\n",
      "Episode 31\tAverage Score: 37.51\n",
      "\n",
      "model saved!\n",
      "Episode 32\tAverage Score: 37.57\n",
      "\n",
      "model saved!\n",
      "Episode 33\tAverage Score: 37.33\n",
      "Episode 34\tAverage Score: 35.46\n",
      "Episode 35\tAverage Score: 35.99\n",
      "Episode 36\tAverage Score: 36.29\n",
      "Episode 37\tAverage Score: 37.16\n",
      "Episode 38\tAverage Score: 36.72\n",
      "Episode 39\tAverage Score: 37.08\n",
      "Episode 40\tAverage Score: 37.89\n",
      "\n",
      "model saved!\n",
      "Episode 41\tAverage Score: 35.15\n",
      "Episode 42\tAverage Score: 36.77\n",
      "Episode 43\tAverage Score: 37.42\n",
      "Episode 44\tAverage Score: 35.64\n",
      "Episode 45\tAverage Score: 37.26\n",
      "Episode 46\tAverage Score: 36.04\n",
      "Episode 47\tAverage Score: 36.07\n",
      "Episode 48\tAverage Score: 37.24\n",
      "Episode 49\tAverage Score: 37.29\n",
      "Episode 50\tAverage Score: 35.82\n",
      "Episode 51\tAverage Score: 37.44\n",
      "Episode 52\tAverage Score: 36.45\n",
      "Episode 53\tAverage Score: 34.46\n",
      "Episode 54\tAverage Score: 35.26\n",
      "Episode 55\tAverage Score: 35.96\n",
      "Episode 56\tAverage Score: 37.80\n",
      "Episode 57\tAverage Score: 35.87\n",
      "Episode 58\tAverage Score: 36.78\n",
      "Episode 59\tAverage Score: 36.70\n",
      "Episode 60\tAverage Score: 33.08\n",
      "Episode 61\tAverage Score: 35.19\n",
      "Episode 62\tAverage Score: 35.70\n",
      "Episode 63\tAverage Score: 35.75\n",
      "Episode 64\tAverage Score: 34.96\n",
      "Episode 65\tAverage Score: 36.24\n",
      "Episode 66\tAverage Score: 34.54\n",
      "Episode 67\tAverage Score: 34.87\n",
      "Episode 68\tAverage Score: 31.83\n",
      "Episode 69\tAverage Score: 36.21\n",
      "Episode 70\tAverage Score: 37.67\n",
      "Episode 71\tAverage Score: 35.65\n",
      "Episode 72\tAverage Score: 37.01\n",
      "Episode 73\tAverage Score: 37.01\n",
      "Episode 74\tAverage Score: 38.17\n",
      "\n",
      "model saved!\n",
      "Episode 75\tAverage Score: 37.18\n",
      "Episode 76\tAverage Score: 37.28\n",
      "Episode 77\tAverage Score: 36.90\n",
      "Episode 78\tAverage Score: 35.85\n",
      "Episode 79\tAverage Score: 36.41\n",
      "Episode 80\tAverage Score: 35.40\n",
      "Episode 81\tAverage Score: 33.71\n",
      "Episode 82\tAverage Score: 37.11\n",
      "Episode 83\tAverage Score: 37.12\n",
      "Episode 84\tAverage Score: 37.32\n",
      "Episode 85\tAverage Score: 37.85\n",
      "Episode 86\tAverage Score: 35.38\n",
      "Episode 87\tAverage Score: 34.54\n",
      "Episode 88\tAverage Score: 36.42\n",
      "Episode 89\tAverage Score: 35.48\n",
      "Episode 90\tAverage Score: 36.00\n",
      "Episode 91\tAverage Score: 36.20\n",
      "Episode 92\tAverage Score: 34.71\n",
      "Episode 93\tAverage Score: 35.34\n",
      "Episode 94\tAverage Score: 34.34\n",
      "Episode 95\tAverage Score: 36.06\n",
      "Episode 96\tAverage Score: 36.69\n",
      "Episode 97\tAverage Score: 36.22\n",
      "Episode 98\tAverage Score: 36.39\n",
      "Episode 99\tAverage Score: 37.31\n",
      "Episode 100\tAverage Score: 35.99\n"
     ]
    },
    {
     "data": {
      "image/png": "[encoded data removed]",
      "text/plain": [
       "<matplotlib.figure.Figure at 0x7fa1d6fdeba8>"
      ]
     },
     "metadata": {
      "needs_background": "light"
     },
     "output_type": "display_data"
    }
   ],
   "source": [
    "agent = Agent(state_size, action_size, num_agents)  \n",
    "\n",
    "n_episodes = 100\n",
    "\n",
    "score_list = []\n",
    "best_score = 30.0\n",
    "for i_episode in range(1, n_episodes+1):\n",
    "    \n",
    "    scores = np.zeros(num_agents)                         \n",
    "    agent.reset()\n",
    "    env_info = env.reset(train_mode=True)[brain_name]      \n",
    "    states = env_info.vector_observations                   \n",
    "    \n",
    "    while True:\n",
    "        \n",
    "        actions = agent.get_action(states)\n",
    "        env_info = env.step(actions)[brain_name]    \n",
    "        \n",
    "        next_states = env_info.vector_observations         \n",
    "        rewards = env_info.rewards                        \n",
    "        dones = env_info.local_done    \n",
    "        \n",
    "        agent.step(states, actions, rewards, next_states, dones)\n",
    "        \n",
    "        states = next_states\n",
    "        scores += rewards        \n",
    "        \n",
    "        if np.any(dones):                                 \n",
    "            break\n",
    "\n",
    "    print('\\rEpisode {}\\tAverage Score: {:.2f}'.format(i_episode, np.mean(scores)))\n",
    "    score_list.append(np.mean(scores))\n",
    "    \n",
    "    if np.mean(scores) >= best_score:\n",
    "        print('\\nmodel saved!')\n",
    "        torch.save(agent.actor.state_dict(), 'checkpoint_actor.pth')\n",
    "        torch.save(agent.critic.state_dict(), 'checkpoint_critic.pth')\n",
    "        best_score  = np.mean(scores)\n",
    "    \n",
    "fig = plt.figure()\n",
    "ax = fig.add_subplot(111)\n",
    "plt.plot(np.arange(len(score_list)), score_list)\n",
    "plt.ylabel('Score')\n",
    "plt.xlabel('Episode #')\n",
    "plt.show()"
   ]
  },
  {
   "cell_type": "code",
   "execution_count": 19,
   "metadata": {},
   "outputs": [],
   "source": [
    "env.close()"
   ]
  },
  {
   "cell_type": "markdown",
   "metadata": {},
   "source": [
    "### 5. Watch trained agent"
   ]
  },
  {
   "cell_type": "code",
   "execution_count": 3,
   "metadata": {},
   "outputs": [
    {
     "name": "stderr",
     "output_type": "stream",
     "text": [
      "INFO:unityagents:\n",
      "'Academy' started successfully!\n",
      "Unity Academy name: Academy\n",
      "        Number of Brains: 1\n",
      "        Number of External Brains : 1\n",
      "        Lesson number : 0\n",
      "        Reset Parameters :\n",
      "\t\tgoal_size -> 5.0\n",
      "\t\tgoal_speed -> 1.0\n",
      "Unity brain name: ReacherBrain\n",
      "        Number of Visual Observations (per agent): 0\n",
      "        Vector Observation space type: continuous\n",
      "        Vector Observation space size (per agent): 33\n",
      "        Number of stacked Vector Observation: 1\n",
      "        Vector Action space type: continuous\n",
      "        Vector Action space size (per agent): 4\n",
      "        Vector Action descriptions: , , , \n"
     ]
    }
   ],
   "source": [
    "env = UnityEnvironment(file_name='/data/Reacher_One_Linux_NoVis/Reacher_One_Linux_NoVis.x86_64')\n",
    "brain_name = 'ReacherBrain'\n",
    "brain = env.brains[brain_name]\n",
    "\n",
    "env_info = env.reset(train_mode=True)[brain_name]\n",
    "\n",
    "num_agents = len(env_info.agents)\n",
    "action_size = brain.vector_action_space_size\n",
    "states = env_info.vector_observations\n",
    "state_size = states.shape[1]"
   ]
  },
  {
   "cell_type": "code",
   "execution_count": 13,
   "metadata": {},
   "outputs": [],
   "source": [
    "agent = Agent(state_size, action_size, num_agents)  \n",
    "\n",
    "agent.actor.load_state_dict(torch.load('checkpoint_actor.pth'))\n",
    "agent.critic.load_state_dict(torch.load('checkpoint_critic.pth'))"
   ]
  },
  {
   "cell_type": "code",
   "execution_count": 15,
   "metadata": {},
   "outputs": [
    {
     "name": "stdout",
     "output_type": "stream",
     "text": [
      "Total score (averaged over agents) this episode: 37.8899991530925\n"
     ]
    }
   ],
   "source": [
    "scores = np.zeros(num_agents)                          # initialize the score (for each agent)\n",
    "env_info = env.reset(train_mode=True)[brain_name]      \n",
    "states = env_info.vector_observations\n",
    "while True:\n",
    "    actions = agent.get_action(states, add_noise = False) # select an action (for each agent)\n",
    "    env_info = env.step(actions)[brain_name]           # send all actions to tne environment\n",
    "    \n",
    "    next_states = env_info.vector_observations         # get next state (for each agent)\n",
    "    rewards = env_info.rewards                         # get reward (for each agent)\n",
    "    dones = env_info.local_done                        # see if episode finished\n",
    "    \n",
    "    states = next_states                               # roll over states to next time step\n",
    "    scores += env_info.rewards                         # update the score (for each agent)\n",
    "    \n",
    "    if np.any(dones):                                  # exit loop if episode finished\n",
    "        break\n",
    "print('Total score (averaged over agents) this episode: {}'.format(np.mean(scores)))"
   ]
  },
  {
   "cell_type": "code",
   "execution_count": null,
   "metadata": {},
   "outputs": [],
   "source": [
    "env.close()"
   ]
  },
  {
   "cell_type": "markdown",
   "metadata": {},
   "source": [
    "### 6.Ideas for Future Work\n",
    "\n",
    "- Implement Proximal Policy Optimization (PPO) for better performance\n",
    "- try prioritized experience replay\n",
    "- try N-step returns"
   ]
  }
 ],
 "metadata": {
  "kernelspec": {
   "display_name": "Python 3",
   "language": "python",
   "name": "python3"
  },
  "language_info": {
   "codemirror_mode": {
    "name": "ipython",
    "version": 3
   },
   "file_extension": ".py",
   "mimetype": "text/x-python",
   "name": "python",
   "nbconvert_exporter": "python",
   "pygments_lexer": "ipython3",
   "version": "3.6.3"
  }
 },
 "nbformat": 4,
 "nbformat_minor": 2
}
